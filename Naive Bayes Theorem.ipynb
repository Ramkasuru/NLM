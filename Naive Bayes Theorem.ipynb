{
  "nbformat": 4,
  "nbformat_minor": 0,
  "metadata": {
    "colab": {
      "provenance": [],
      "authorship_tag": "ABX9TyMb+Y2fLyPWz6QTGnQlz5Pg",
      "include_colab_link": true
    },
    "kernelspec": {
      "name": "python3",
      "display_name": "Python 3"
    },
    "language_info": {
      "name": "python"
    }
  },
  "cells": [
    {
      "cell_type": "markdown",
      "metadata": {
        "id": "view-in-github",
        "colab_type": "text"
      },
      "source": [
        "<a href=\"https://colab.research.google.com/github/Ramkasuru/NLM/blob/main/Naive%20Bayes%20Theorem.ipynb\" target=\"_parent\"><img src=\"https://colab.research.google.com/assets/colab-badge.svg\" alt=\"Open In Colab\"/></a>"
      ]
    },
    {
      "cell_type": "code",
      "execution_count": 1,
      "metadata": {
        "id": "sY5_LxJuNr3d"
      },
      "outputs": [],
      "source": [
        "#p(D)\n",
        "p_diabetes = 0.01"
      ]
    },
    {
      "cell_type": "code",
      "source": [
        "#p(`D)\n",
        "p_no_diabetes = 0.99"
      ],
      "metadata": {
        "id": "KnWxCViQNxcX"
      },
      "execution_count": 2,
      "outputs": []
    },
    {
      "cell_type": "code",
      "source": [
        "# Sensitivity or p(pos|D)\n",
        "p_pos_diabetes = 0.9"
      ],
      "metadata": {
        "id": "xhqf8YEbNxn-"
      },
      "execution_count": 3,
      "outputs": []
    },
    {
      "cell_type": "code",
      "source": [
        "# Specificity or p(Neg/`D)\n",
        "p_neg_no_diabetes = 0.9\n"
      ],
      "metadata": {
        "id": "u4unVpG_Nxyf"
      },
      "execution_count": 4,
      "outputs": []
    },
    {
      "cell_type": "code",
      "source": [
        "#p(pos)\n",
        "p_pos = (p_diabetes *p_pos_diabetes) + (p_no_diabetes *(1-p_neg_no_diabetes))\n",
        "print('The probability of getting a positive test result p(pos) is: {}', format(p_pos))"
      ],
      "metadata": {
        "colab": {
          "base_uri": "https://localhost:8080/"
        },
        "id": "jc1F6c7oNx1U",
        "outputId": "7930ff8a-bdad-4da3-eadc-185b6b6d3787"
      },
      "execution_count": 5,
      "outputs": [
        {
          "output_type": "stream",
          "name": "stdout",
          "text": [
            "The probability of getting a positive test result p(pos) is: {} 0.10799999999999998\n"
          ]
        }
      ]
    },
    {
      "cell_type": "code",
      "source": [
        "# Using p(pos) we can calculate p(D|Pos)\n",
        "#p(D|Pos)\n",
        "p_diabetes_pos = (p_diabetes * p_pos_diabetes) / p_pos\n",
        "print('Probability of an individual having diabetes:given that individual got a positive test result is :', format(p_diabetes_pos))"
      ],
      "metadata": {
        "colab": {
          "base_uri": "https://localhost:8080/"
        },
        "id": "2AIBO0jfNx3R",
        "outputId": "98f0ea91-3d5b-4601-bd6d-8f549430e8d2"
      },
      "execution_count": 6,
      "outputs": [
        {
          "output_type": "stream",
          "name": "stdout",
          "text": [
            "Probability of an individual having diabetes:given that individual got a positive test result is : 0.08333333333333336\n"
          ]
        }
      ]
    }
  ]
}